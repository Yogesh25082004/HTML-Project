{
  "nbformat": 4,
  "nbformat_minor": 0,
  "metadata": {
    "colab": {
      "provenance": [],
      "authorship_tag": "ABX9TyPZp4vp4xi5t7orhXXeXMDd",
      "include_colab_link": true
    },
    "kernelspec": {
      "name": "python3",
      "display_name": "Python 3"
    },
    "language_info": {
      "name": "python"
    }
  },
  "cells": [
    {
      "cell_type": "markdown",
      "metadata": {
        "id": "view-in-github",
        "colab_type": "text"
      },
      "source": [
        "<a href=\"https://colab.research.google.com/github/Yogesh25082004/HTML-Project/blob/main/Python_simple_code.ipynb\" target=\"_parent\"><img src=\"https://colab.research.google.com/assets/colab-badge.svg\" alt=\"Open In Colab\"/></a>"
      ]
    },
    {
      "cell_type": "code",
      "execution_count": 13,
      "metadata": {
        "colab": {
          "base_uri": "https://localhost:8080/"
        },
        "id": "6wliPkf_zDY_",
        "outputId": "8f0be69e-10f4-4e3f-d14b-34b810c8e2e6"
      },
      "outputs": [
        {
          "output_type": "stream",
          "name": "stdout",
          "text": [
            "The sum is 20\n",
            "Hello, world\n"
          ]
        }
      ],
      "source": [
        "a = 10\n",
        "b = 10\n",
        "\n",
        "print(f\"The sum is {a+b}\")\n",
        "\n",
        "print(\"Hello, world\")"
      ]
    },
    {
      "cell_type": "code",
      "source": [
        "def factorial(n):\n",
        "  if n == 0:\n",
        "    return 1\n",
        "  else:\n",
        "    return n * factorial(n-1)\n",
        "\n",
        "print(factorial(5))"
      ],
      "metadata": {
        "colab": {
          "base_uri": "https://localhost:8080/"
        },
        "id": "YarmdpTf0ZsY",
        "outputId": "4fa175d6-3295-4e72-f710-cf0f35f65835"
      },
      "execution_count": 8,
      "outputs": [
        {
          "output_type": "stream",
          "name": "stdout",
          "text": [
            "120\n"
          ]
        }
      ]
    },
    {
      "cell_type": "code",
      "source": [
        "def fibonacci(n):\n",
        "  sequence = [0,1]\n",
        "  while(len(sequence)<n):\n",
        "    sequence.append(sequence[-1]+sequence[-2])\n",
        "  return sequence\n",
        "\n",
        "fibonacci(10)"
      ],
      "metadata": {
        "colab": {
          "base_uri": "https://localhost:8080/"
        },
        "id": "uccMP0Ry1-8-",
        "outputId": "b257b673-e1f4-4d15-e576-34f230d91d4f"
      },
      "execution_count": 11,
      "outputs": [
        {
          "output_type": "execute_result",
          "data": {
            "text/plain": [
              "[0, 1, 1, 2, 3, 5, 8, 13, 21, 34]"
            ]
          },
          "metadata": {},
          "execution_count": 11
        }
      ]
    },
    {
      "cell_type": "code",
      "source": [
        "def check_even_odd(n):\n",
        "  if n%2 == 0:\n",
        "    print(f\"{n} is even\")\n",
        "  else:\n",
        "    print(f\"{n} is odd\")\n",
        "\n",
        "check_even_odd(10)"
      ],
      "metadata": {
        "colab": {
          "base_uri": "https://localhost:8080/"
        },
        "id": "FCMVNUWz4X85",
        "outputId": "aec304aa-48e2-4d98-ae71-6e321c3f4d03"
      },
      "execution_count": 14,
      "outputs": [
        {
          "output_type": "stream",
          "name": "stdout",
          "text": [
            "10 is even\n"
          ]
        }
      ]
    },
    {
      "cell_type": "code",
      "source": [
        "def reverse_list(lst):\n",
        "  return lst[::-1]\n",
        "\n",
        "my_list = [1,2,3,4,5]\n",
        "print(my_list)\n",
        "print(reverse_list(my_list))"
      ],
      "metadata": {
        "colab": {
          "base_uri": "https://localhost:8080/"
        },
        "id": "9LF7zCRM5UnP",
        "outputId": "27fb8e9d-9831-4ada-b408-1605c4a0d0cd"
      },
      "execution_count": 15,
      "outputs": [
        {
          "output_type": "stream",
          "name": "stdout",
          "text": [
            "[1, 2, 3, 4, 5]\n",
            "[5, 4, 3, 2, 1]\n"
          ]
        }
      ]
    }
  ]
}